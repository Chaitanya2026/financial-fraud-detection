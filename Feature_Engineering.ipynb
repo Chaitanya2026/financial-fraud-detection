{
  "nbformat": 4,
  "nbformat_minor": 0,
  "metadata": {
    "colab": {
      "provenance": []
    },
    "kernelspec": {
      "name": "python3",
      "display_name": "Python 3"
    },
    "language_info": {
      "name": "python"
    }
  },
  "cells": [
    {
      "cell_type": "code",
      "execution_count": null,
      "metadata": {
        "id": "s5pnbfh6w9dp"
      },
      "outputs": [],
      "source": [
        "#Import libraries\n",
        "import pandas as pd\n",
        "import numpy as np\n",
        "import matplotlib.pyplot as plt\n",
        "import seaborn as sns\n",
        "\n",
        "df = pd.read_csv('/content/creditcard.csv')"
      ]
    },
    {
      "cell_type": "markdown",
      "source": [
        "Most legit transactions are small. Large = higher risk."
      ],
      "metadata": {
        "id": "vHN9itoxx5Bh"
      }
    },
    {
      "cell_type": "code",
      "source": [
        "#Transaction Amount Flag\n",
        "df['High_Amount'] = df['Amount'].apply(lambda x: 1 if x > 200 else 0)"
      ],
      "metadata": {
        "id": "HksNV7bHxuky"
      },
      "execution_count": null,
      "outputs": []
    },
    {
      "cell_type": "markdown",
      "source": [
        "Fraud spikes during off hours (10 PM–5 AM)"
      ],
      "metadata": {
        "id": "l5I_BoZKyDaP"
      }
    },
    {
      "cell_type": "code",
      "source": [
        "#Night-Time Transaction Flag\n",
        "df['Night_Transaction'] = df['Time'].apply(lambda x: 1 if (x % 86400) >= 79200 or (x % 86400) <= 18000 else 0)"
      ],
      "metadata": {
        "id": "7nji_IqEx6-P"
      },
      "execution_count": null,
      "outputs": []
    },
    {
      "cell_type": "markdown",
      "source": [
        "Captures “surprisingly large” transactions"
      ],
      "metadata": {
        "id": "GJF2g01kyKww"
      }
    },
    {
      "cell_type": "code",
      "source": [
        "#Amount Z-Score\n",
        "df['Amount_zscore'] = (df['Amount'] - df['Amount'].mean()) / df['Amount'].std()"
      ],
      "metadata": {
        "id": "hi-AyWb1yFFL"
      },
      "execution_count": null,
      "outputs": []
    },
    {
      "cell_type": "markdown",
      "source": [
        "High volume in small window → likely fraud"
      ],
      "metadata": {
        "id": "gpQgP9W-yWTV"
      }
    },
    {
      "cell_type": "code",
      "source": [
        "#Transaction per 10-minute Window\n",
        "df['Time_Min'] = df['Time'] // 60\n",
        "tx_per_min = df.groupby('Time_Min')['Amount'].count()\n",
        "df['Tx_Count_10min'] = df['Time_Min'].apply(lambda x: tx_per_min.loc[x-5:x+5].sum())"
      ],
      "metadata": {
        "id": "e1DGJpQmyOPO"
      },
      "execution_count": null,
      "outputs": []
    },
    {
      "cell_type": "markdown",
      "source": [
        "Helps track sudden spikes or dips"
      ],
      "metadata": {
        "id": "ISKNb8vcymNK"
      }
    },
    {
      "cell_type": "code",
      "source": [
        "#Rolling Mean Transaction Amount\n",
        "rolling_mean = df['Amount'].rolling(window=10).mean().fillna(df['Amount'].mean())\n",
        "df['Rolling_Avg_Amount'] = rolling_mean"
      ],
      "metadata": {
        "id": "nq5xJSUKygm0"
      },
      "execution_count": null,
      "outputs": []
    },
    {
      "cell_type": "code",
      "source": [
        "#Drop unused or temp cols\n",
        "df.drop(['Time_Min'], axis=1, inplace=True)"
      ],
      "metadata": {
        "id": "jwRTf9ZTyr51"
      },
      "execution_count": null,
      "outputs": []
    },
    {
      "cell_type": "code",
      "source": [
        "df[['Amount', 'High_Amount', 'Night_Transaction', 'Amount_zscore', 'Tx_Count_10min', 'Rolling_Avg_Amount']].head(10)"
      ],
      "metadata": {
        "colab": {
          "base_uri": "https://localhost:8080/",
          "height": 363
        },
        "id": "FKdyaunYy0VA",
        "outputId": "965cd752-1457-4971-8434-d82c42f1e042"
      },
      "execution_count": null,
      "outputs": [
        {
          "output_type": "execute_result",
          "data": {
            "text/plain": [
              "   Amount  High_Amount  Night_Transaction  Amount_zscore  Tx_Count_10min  \\\n",
              "0  149.62            0                  1       0.244964             491   \n",
              "1    2.69            0                  1      -0.342474             491   \n",
              "2  378.66            1                  1       1.160684             491   \n",
              "3  123.50            0                  1       0.140534             491   \n",
              "4   69.99            0                  1      -0.073403             491   \n",
              "5    3.67            0                  1      -0.338556             491   \n",
              "6    4.99            0                  1      -0.333278             491   \n",
              "7   40.80            0                  1      -0.190107             491   \n",
              "8   93.20            0                  1       0.019392             491   \n",
              "9    3.68            0                  1      -0.338516             491   \n",
              "\n",
              "   Rolling_Avg_Amount  \n",
              "0           88.349619  \n",
              "1           88.349619  \n",
              "2           88.349619  \n",
              "3           88.349619  \n",
              "4           88.349619  \n",
              "5           88.349619  \n",
              "6           88.349619  \n",
              "7           88.349619  \n",
              "8           88.349619  \n",
              "9           87.080000  "
            ],
            "text/html": [
              "\n",
              "  <div id=\"df-d50ede2e-7fcf-432a-992a-bcd347711f78\" class=\"colab-df-container\">\n",
              "    <div>\n",
              "<style scoped>\n",
              "    .dataframe tbody tr th:only-of-type {\n",
              "        vertical-align: middle;\n",
              "    }\n",
              "\n",
              "    .dataframe tbody tr th {\n",
              "        vertical-align: top;\n",
              "    }\n",
              "\n",
              "    .dataframe thead th {\n",
              "        text-align: right;\n",
              "    }\n",
              "</style>\n",
              "<table border=\"1\" class=\"dataframe\">\n",
              "  <thead>\n",
              "    <tr style=\"text-align: right;\">\n",
              "      <th></th>\n",
              "      <th>Amount</th>\n",
              "      <th>High_Amount</th>\n",
              "      <th>Night_Transaction</th>\n",
              "      <th>Amount_zscore</th>\n",
              "      <th>Tx_Count_10min</th>\n",
              "      <th>Rolling_Avg_Amount</th>\n",
              "    </tr>\n",
              "  </thead>\n",
              "  <tbody>\n",
              "    <tr>\n",
              "      <th>0</th>\n",
              "      <td>149.62</td>\n",
              "      <td>0</td>\n",
              "      <td>1</td>\n",
              "      <td>0.244964</td>\n",
              "      <td>491</td>\n",
              "      <td>88.349619</td>\n",
              "    </tr>\n",
              "    <tr>\n",
              "      <th>1</th>\n",
              "      <td>2.69</td>\n",
              "      <td>0</td>\n",
              "      <td>1</td>\n",
              "      <td>-0.342474</td>\n",
              "      <td>491</td>\n",
              "      <td>88.349619</td>\n",
              "    </tr>\n",
              "    <tr>\n",
              "      <th>2</th>\n",
              "      <td>378.66</td>\n",
              "      <td>1</td>\n",
              "      <td>1</td>\n",
              "      <td>1.160684</td>\n",
              "      <td>491</td>\n",
              "      <td>88.349619</td>\n",
              "    </tr>\n",
              "    <tr>\n",
              "      <th>3</th>\n",
              "      <td>123.50</td>\n",
              "      <td>0</td>\n",
              "      <td>1</td>\n",
              "      <td>0.140534</td>\n",
              "      <td>491</td>\n",
              "      <td>88.349619</td>\n",
              "    </tr>\n",
              "    <tr>\n",
              "      <th>4</th>\n",
              "      <td>69.99</td>\n",
              "      <td>0</td>\n",
              "      <td>1</td>\n",
              "      <td>-0.073403</td>\n",
              "      <td>491</td>\n",
              "      <td>88.349619</td>\n",
              "    </tr>\n",
              "    <tr>\n",
              "      <th>5</th>\n",
              "      <td>3.67</td>\n",
              "      <td>0</td>\n",
              "      <td>1</td>\n",
              "      <td>-0.338556</td>\n",
              "      <td>491</td>\n",
              "      <td>88.349619</td>\n",
              "    </tr>\n",
              "    <tr>\n",
              "      <th>6</th>\n",
              "      <td>4.99</td>\n",
              "      <td>0</td>\n",
              "      <td>1</td>\n",
              "      <td>-0.333278</td>\n",
              "      <td>491</td>\n",
              "      <td>88.349619</td>\n",
              "    </tr>\n",
              "    <tr>\n",
              "      <th>7</th>\n",
              "      <td>40.80</td>\n",
              "      <td>0</td>\n",
              "      <td>1</td>\n",
              "      <td>-0.190107</td>\n",
              "      <td>491</td>\n",
              "      <td>88.349619</td>\n",
              "    </tr>\n",
              "    <tr>\n",
              "      <th>8</th>\n",
              "      <td>93.20</td>\n",
              "      <td>0</td>\n",
              "      <td>1</td>\n",
              "      <td>0.019392</td>\n",
              "      <td>491</td>\n",
              "      <td>88.349619</td>\n",
              "    </tr>\n",
              "    <tr>\n",
              "      <th>9</th>\n",
              "      <td>3.68</td>\n",
              "      <td>0</td>\n",
              "      <td>1</td>\n",
              "      <td>-0.338516</td>\n",
              "      <td>491</td>\n",
              "      <td>87.080000</td>\n",
              "    </tr>\n",
              "  </tbody>\n",
              "</table>\n",
              "</div>\n",
              "    <div class=\"colab-df-buttons\">\n",
              "\n",
              "  <div class=\"colab-df-container\">\n",
              "    <button class=\"colab-df-convert\" onclick=\"convertToInteractive('df-d50ede2e-7fcf-432a-992a-bcd347711f78')\"\n",
              "            title=\"Convert this dataframe to an interactive table.\"\n",
              "            style=\"display:none;\">\n",
              "\n",
              "  <svg xmlns=\"http://www.w3.org/2000/svg\" height=\"24px\" viewBox=\"0 -960 960 960\">\n",
              "    <path d=\"M120-120v-720h720v720H120Zm60-500h600v-160H180v160Zm220 220h160v-160H400v160Zm0 220h160v-160H400v160ZM180-400h160v-160H180v160Zm440 0h160v-160H620v160ZM180-180h160v-160H180v160Zm440 0h160v-160H620v160Z\"/>\n",
              "  </svg>\n",
              "    </button>\n",
              "\n",
              "  <style>\n",
              "    .colab-df-container {\n",
              "      display:flex;\n",
              "      gap: 12px;\n",
              "    }\n",
              "\n",
              "    .colab-df-convert {\n",
              "      background-color: #E8F0FE;\n",
              "      border: none;\n",
              "      border-radius: 50%;\n",
              "      cursor: pointer;\n",
              "      display: none;\n",
              "      fill: #1967D2;\n",
              "      height: 32px;\n",
              "      padding: 0 0 0 0;\n",
              "      width: 32px;\n",
              "    }\n",
              "\n",
              "    .colab-df-convert:hover {\n",
              "      background-color: #E2EBFA;\n",
              "      box-shadow: 0px 1px 2px rgba(60, 64, 67, 0.3), 0px 1px 3px 1px rgba(60, 64, 67, 0.15);\n",
              "      fill: #174EA6;\n",
              "    }\n",
              "\n",
              "    .colab-df-buttons div {\n",
              "      margin-bottom: 4px;\n",
              "    }\n",
              "\n",
              "    [theme=dark] .colab-df-convert {\n",
              "      background-color: #3B4455;\n",
              "      fill: #D2E3FC;\n",
              "    }\n",
              "\n",
              "    [theme=dark] .colab-df-convert:hover {\n",
              "      background-color: #434B5C;\n",
              "      box-shadow: 0px 1px 3px 1px rgba(0, 0, 0, 0.15);\n",
              "      filter: drop-shadow(0px 1px 2px rgba(0, 0, 0, 0.3));\n",
              "      fill: #FFFFFF;\n",
              "    }\n",
              "  </style>\n",
              "\n",
              "    <script>\n",
              "      const buttonEl =\n",
              "        document.querySelector('#df-d50ede2e-7fcf-432a-992a-bcd347711f78 button.colab-df-convert');\n",
              "      buttonEl.style.display =\n",
              "        google.colab.kernel.accessAllowed ? 'block' : 'none';\n",
              "\n",
              "      async function convertToInteractive(key) {\n",
              "        const element = document.querySelector('#df-d50ede2e-7fcf-432a-992a-bcd347711f78');\n",
              "        const dataTable =\n",
              "          await google.colab.kernel.invokeFunction('convertToInteractive',\n",
              "                                                    [key], {});\n",
              "        if (!dataTable) return;\n",
              "\n",
              "        const docLinkHtml = 'Like what you see? Visit the ' +\n",
              "          '<a target=\"_blank\" href=https://colab.research.google.com/notebooks/data_table.ipynb>data table notebook</a>'\n",
              "          + ' to learn more about interactive tables.';\n",
              "        element.innerHTML = '';\n",
              "        dataTable['output_type'] = 'display_data';\n",
              "        await google.colab.output.renderOutput(dataTable, element);\n",
              "        const docLink = document.createElement('div');\n",
              "        docLink.innerHTML = docLinkHtml;\n",
              "        element.appendChild(docLink);\n",
              "      }\n",
              "    </script>\n",
              "  </div>\n",
              "\n",
              "\n",
              "    <div id=\"df-6aa195c1-7f9c-43c2-8f0d-8bcc668c1926\">\n",
              "      <button class=\"colab-df-quickchart\" onclick=\"quickchart('df-6aa195c1-7f9c-43c2-8f0d-8bcc668c1926')\"\n",
              "                title=\"Suggest charts\"\n",
              "                style=\"display:none;\">\n",
              "\n",
              "<svg xmlns=\"http://www.w3.org/2000/svg\" height=\"24px\"viewBox=\"0 0 24 24\"\n",
              "     width=\"24px\">\n",
              "    <g>\n",
              "        <path d=\"M19 3H5c-1.1 0-2 .9-2 2v14c0 1.1.9 2 2 2h14c1.1 0 2-.9 2-2V5c0-1.1-.9-2-2-2zM9 17H7v-7h2v7zm4 0h-2V7h2v10zm4 0h-2v-4h2v4z\"/>\n",
              "    </g>\n",
              "</svg>\n",
              "      </button>\n",
              "\n",
              "<style>\n",
              "  .colab-df-quickchart {\n",
              "      --bg-color: #E8F0FE;\n",
              "      --fill-color: #1967D2;\n",
              "      --hover-bg-color: #E2EBFA;\n",
              "      --hover-fill-color: #174EA6;\n",
              "      --disabled-fill-color: #AAA;\n",
              "      --disabled-bg-color: #DDD;\n",
              "  }\n",
              "\n",
              "  [theme=dark] .colab-df-quickchart {\n",
              "      --bg-color: #3B4455;\n",
              "      --fill-color: #D2E3FC;\n",
              "      --hover-bg-color: #434B5C;\n",
              "      --hover-fill-color: #FFFFFF;\n",
              "      --disabled-bg-color: #3B4455;\n",
              "      --disabled-fill-color: #666;\n",
              "  }\n",
              "\n",
              "  .colab-df-quickchart {\n",
              "    background-color: var(--bg-color);\n",
              "    border: none;\n",
              "    border-radius: 50%;\n",
              "    cursor: pointer;\n",
              "    display: none;\n",
              "    fill: var(--fill-color);\n",
              "    height: 32px;\n",
              "    padding: 0;\n",
              "    width: 32px;\n",
              "  }\n",
              "\n",
              "  .colab-df-quickchart:hover {\n",
              "    background-color: var(--hover-bg-color);\n",
              "    box-shadow: 0 1px 2px rgba(60, 64, 67, 0.3), 0 1px 3px 1px rgba(60, 64, 67, 0.15);\n",
              "    fill: var(--button-hover-fill-color);\n",
              "  }\n",
              "\n",
              "  .colab-df-quickchart-complete:disabled,\n",
              "  .colab-df-quickchart-complete:disabled:hover {\n",
              "    background-color: var(--disabled-bg-color);\n",
              "    fill: var(--disabled-fill-color);\n",
              "    box-shadow: none;\n",
              "  }\n",
              "\n",
              "  .colab-df-spinner {\n",
              "    border: 2px solid var(--fill-color);\n",
              "    border-color: transparent;\n",
              "    border-bottom-color: var(--fill-color);\n",
              "    animation:\n",
              "      spin 1s steps(1) infinite;\n",
              "  }\n",
              "\n",
              "  @keyframes spin {\n",
              "    0% {\n",
              "      border-color: transparent;\n",
              "      border-bottom-color: var(--fill-color);\n",
              "      border-left-color: var(--fill-color);\n",
              "    }\n",
              "    20% {\n",
              "      border-color: transparent;\n",
              "      border-left-color: var(--fill-color);\n",
              "      border-top-color: var(--fill-color);\n",
              "    }\n",
              "    30% {\n",
              "      border-color: transparent;\n",
              "      border-left-color: var(--fill-color);\n",
              "      border-top-color: var(--fill-color);\n",
              "      border-right-color: var(--fill-color);\n",
              "    }\n",
              "    40% {\n",
              "      border-color: transparent;\n",
              "      border-right-color: var(--fill-color);\n",
              "      border-top-color: var(--fill-color);\n",
              "    }\n",
              "    60% {\n",
              "      border-color: transparent;\n",
              "      border-right-color: var(--fill-color);\n",
              "    }\n",
              "    80% {\n",
              "      border-color: transparent;\n",
              "      border-right-color: var(--fill-color);\n",
              "      border-bottom-color: var(--fill-color);\n",
              "    }\n",
              "    90% {\n",
              "      border-color: transparent;\n",
              "      border-bottom-color: var(--fill-color);\n",
              "    }\n",
              "  }\n",
              "</style>\n",
              "\n",
              "      <script>\n",
              "        async function quickchart(key) {\n",
              "          const quickchartButtonEl =\n",
              "            document.querySelector('#' + key + ' button');\n",
              "          quickchartButtonEl.disabled = true;  // To prevent multiple clicks.\n",
              "          quickchartButtonEl.classList.add('colab-df-spinner');\n",
              "          try {\n",
              "            const charts = await google.colab.kernel.invokeFunction(\n",
              "                'suggestCharts', [key], {});\n",
              "          } catch (error) {\n",
              "            console.error('Error during call to suggestCharts:', error);\n",
              "          }\n",
              "          quickchartButtonEl.classList.remove('colab-df-spinner');\n",
              "          quickchartButtonEl.classList.add('colab-df-quickchart-complete');\n",
              "        }\n",
              "        (() => {\n",
              "          let quickchartButtonEl =\n",
              "            document.querySelector('#df-6aa195c1-7f9c-43c2-8f0d-8bcc668c1926 button');\n",
              "          quickchartButtonEl.style.display =\n",
              "            google.colab.kernel.accessAllowed ? 'block' : 'none';\n",
              "        })();\n",
              "      </script>\n",
              "    </div>\n",
              "\n",
              "    </div>\n",
              "  </div>\n"
            ],
            "application/vnd.google.colaboratory.intrinsic+json": {
              "type": "dataframe",
              "summary": "{\n  \"name\": \"df[['Amount', 'High_Amount', 'Night_Transaction', 'Amount_zscore', 'Tx_Count_10min', 'Rolling_Avg_Amount']]\",\n  \"rows\": 10,\n  \"fields\": [\n    {\n      \"column\": \"Amount\",\n      \"properties\": {\n        \"dtype\": \"number\",\n        \"std\": 115.71092025676171,\n        \"min\": 2.69,\n        \"max\": 378.66,\n        \"num_unique_values\": 10,\n        \"samples\": [\n          93.2,\n          2.69,\n          3.67\n        ],\n        \"semantic_type\": \"\",\n        \"description\": \"\"\n      }\n    },\n    {\n      \"column\": \"High_Amount\",\n      \"properties\": {\n        \"dtype\": \"number\",\n        \"std\": 0,\n        \"min\": 0,\n        \"max\": 1,\n        \"num_unique_values\": 2,\n        \"samples\": [\n          1,\n          0\n        ],\n        \"semantic_type\": \"\",\n        \"description\": \"\"\n      }\n    },\n    {\n      \"column\": \"Night_Transaction\",\n      \"properties\": {\n        \"dtype\": \"number\",\n        \"std\": 0,\n        \"min\": 1,\n        \"max\": 1,\n        \"num_unique_values\": 1,\n        \"samples\": [\n          1\n        ],\n        \"semantic_type\": \"\",\n        \"description\": \"\"\n      }\n    },\n    {\n      \"column\": \"Amount_zscore\",\n      \"properties\": {\n        \"dtype\": \"number\",\n        \"std\": 0.462621420597693,\n        \"min\": -0.3424739398648732,\n        \"max\": 1.1606838875567849,\n        \"num_unique_values\": 10,\n        \"samples\": [\n          0.019392206263632486\n        ],\n        \"semantic_type\": \"\",\n        \"description\": \"\"\n      }\n    },\n    {\n      \"column\": \"Tx_Count_10min\",\n      \"properties\": {\n        \"dtype\": \"number\",\n        \"std\": 0,\n        \"min\": 491,\n        \"max\": 491,\n        \"num_unique_values\": 1,\n        \"samples\": [\n          491\n        ],\n        \"semantic_type\": \"\",\n        \"description\": \"\"\n      }\n    },\n    {\n      \"column\": \"Rolling_Avg_Amount\",\n      \"properties\": {\n        \"dtype\": \"number\",\n        \"std\": 0.4014888594139805,\n        \"min\": 87.08000000000001,\n        \"max\": 88.34961925093133,\n        \"num_unique_values\": 2,\n        \"samples\": [\n          87.08000000000001\n        ],\n        \"semantic_type\": \"\",\n        \"description\": \"\"\n      }\n    }\n  ]\n}"
            }
          },
          "metadata": {},
          "execution_count": 19
        }
      ]
    },
    {
      "cell_type": "code",
      "source": [
        "sns.boxplot(x='Class', y='Tx_Count_10min', data=df)\n",
        "plt.title(\"Transactions in 10-Minute Window by Class\")"
      ],
      "metadata": {
        "colab": {
          "base_uri": "https://localhost:8080/",
          "height": 490
        },
        "id": "Fa3VU7ify46Y",
        "outputId": "cfa109a4-09b7-4429-ee7a-334f8c5e87ab"
      },
      "execution_count": null,
      "outputs": [
        {
          "output_type": "execute_result",
          "data": {
            "text/plain": [
              "Text(0.5, 1.0, 'Transactions in 10-Minute Window by Class')"
            ]
          },
          "metadata": {},
          "execution_count": 20
        },
        {
          "output_type": "display_data",
          "data": {
            "text/plain": [
              "<Figure size 640x480 with 1 Axes>"
            ],
            "image/png": "[encoded data removed]"
          },
          "metadata": {}
        }
      ]
    },
    {
      "cell_type": "code",
      "source": [
        "sns.kdeplot(data=df, x='Rolling_Avg_Amount', hue='Class', fill=True)\n",
        "plt.title(\"Rolling Avg Amount by Fraud/Legit\")"
      ],
      "metadata": {
        "colab": {
          "base_uri": "https://localhost:8080/",
          "height": 490
        },
        "id": "uhYIl3iPy-5C",
        "outputId": "a33fc3e8-2d09-462e-8888-41b99869de17"
      },
      "execution_count": null,
      "outputs": [
        {
          "output_type": "execute_result",
          "data": {
            "text/plain": [
              "Text(0.5, 1.0, 'Rolling Avg Amount by Fraud/Legit')"
            ]
          },
          "metadata": {},
          "execution_count": 21
        },
        {
          "output_type": "display_data",
          "data": {
            "text/plain": [
              "<Figure size 640x480 with 1 Axes>"
            ],
            "image/png": "[encoded data removed]"
          },
          "metadata": {}
        }
      ]
    }
  ]
}